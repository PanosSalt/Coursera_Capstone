{
 "cells": [
  {
   "cell_type": "markdown",
   "metadata": {
    "collapsed": true
   },
   "source": [
    "# Coursera Capstone Data Science Project"
   ]
  },
  {
   "cell_type": "markdown",
   "metadata": {},
   "source": [
    "### Applied Data Science Capstone\n",
    "#### IBM\n",
    "\n",
    "This capstone project course will give a taste of what data scientists go through in real life when working with data. \n",
    "\n",
    "You will learn about location data and different location data providers, such as Foursquare. You will learn how to make RESTful API calls to the Foursquare API to retrieve data about venues in different neighborhoods around the world. You will also learn how to be creative in situations where data are not readily available by scraping web data and parsing HTML code. You will utilize Python and its pandas library to manipulate data, which will help you refine your skills for exploring and analyzing data. \n",
    "\n",
    "Finally, you will be required to use the Folium library to great maps of geospatial data and to communicate your results and findings.\n",
    "\n",
    "If you choose to take this course and earn the Coursera course certificate, you will also earn an IBM digital badge upon successful completion of the course.  \n",
    "\n",
    "That' s what Coursera and IBM claim about this course. Let' s find out what is in store for us!!!"
   ]
  },
  {
   "cell_type": "code",
   "execution_count": 61,
   "metadata": {},
   "outputs": [
    {
     "name": "stdout",
     "output_type": "stream",
     "text": [
      "Hello Capstone Project Course!\n"
     ]
    }
   ],
   "source": [
    "import pandas as pd\n",
    "import numpy as np\n",
    "import requests\n",
    "from bs4 import BeautifulSoup\n",
    "\n",
    "print(\"Hello Capstone Project Course!\")"
   ]
  },
  {
   "cell_type": "markdown",
   "metadata": {},
   "source": [
    "Using the Notebook to build the code to scrape the following Wikipedia page, https://en.wikipedia.org/wiki/List_of_postal_codes_of_Canada:_M, in order to obtain the data that is in the table of postal codes and to transform the data into a pandas dataframe like the one shown below:"
   ]
  },
  {
   "cell_type": "code",
   "execution_count": 62,
   "metadata": {},
   "outputs": [
    {
     "name": "stdout",
     "output_type": "stream",
     "text": [
      "   Postcode           Borough      Neighborhood\n",
      "0       M1A      Not assigned      Not assigned\n",
      "1       M2A      Not assigned      Not assigned\n",
      "2       M3A        North York         Parkwoods\n",
      "3       M4A        North York  Victoria Village\n",
      "4       M5A  Downtown Toronto      Harbourfront\n",
      "5       M6A        North York  Lawrence Heights\n",
      "6       M6A        North York    Lawrence Manor\n",
      "7       M7A  Downtown Toronto      Queen's Park\n",
      "8       M8A      Not assigned      Not assigned\n",
      "9       M9A      Queen's Park      Not assigned\n",
      "10      M1B       Scarborough             Rouge\n",
      "11      M1B       Scarborough           Malvern\n",
      "12      M2B      Not assigned      Not assigned\n",
      "13      M3B        North York   Don Mills North\n",
      "14      M4B         East York  Woodbine Gardens\n"
     ]
    }
   ],
   "source": [
    "res = requests.get(\"https://en.wikipedia.org/wiki/List_of_postal_codes_of_Canada:_M\")\n",
    "soup = BeautifulSoup(res.content,'lxml')\n",
    "\n",
    "table = soup.find_all('table')[0] \n",
    "df_temp = pd.read_html(str(table))\n",
    "df = df_temp[0]\n",
    "df.columns = ['Postcode', 'Borough', 'Neighborhood']\n",
    "\n",
    "# Display the first 15 rows\n",
    "print(df.head(15))"
   ]
  },
  {
   "cell_type": "markdown",
   "metadata": {},
   "source": [
    "## Creating the dataframe according to requirements"
   ]
  },
  {
   "cell_type": "markdown",
   "metadata": {},
   "source": [
    "#### Only process the cells that have an assigned borough. Ignore cells with a borough that is Not assigned."
   ]
  },
  {
   "cell_type": "code",
   "execution_count": 63,
   "metadata": {},
   "outputs": [
    {
     "name": "stdout",
     "output_type": "stream",
     "text": [
      "   Postcode           Borough      Neighborhood\n",
      "2       M3A        North York         Parkwoods\n",
      "3       M4A        North York  Victoria Village\n",
      "4       M5A  Downtown Toronto      Harbourfront\n",
      "5       M6A        North York  Lawrence Heights\n",
      "6       M6A        North York    Lawrence Manor\n",
      "7       M7A  Downtown Toronto      Queen's Park\n",
      "9       M9A      Queen's Park      Not assigned\n",
      "10      M1B       Scarborough             Rouge\n",
      "11      M1B       Scarborough           Malvern\n",
      "13      M3B        North York   Don Mills North\n",
      "14      M4B         East York  Woodbine Gardens\n",
      "15      M4B         East York     Parkview Hill\n",
      "16      M5B  Downtown Toronto           Ryerson\n",
      "17      M5B  Downtown Toronto   Garden District\n",
      "18      M6B        North York         Glencairn\n"
     ]
    }
   ],
   "source": [
    "df.drop(df[df['Borough'] == 'Not assigned'].index, inplace=True)\n",
    "\n",
    "# Display the first 15 rows\n",
    "print(df.head(15))"
   ]
  },
  {
   "cell_type": "markdown",
   "metadata": {},
   "source": [
    "If a cell has a borough but a Not assigned neighborhood, then the neighborhood will be the same as the borough. So for the 9th cell in the table on the Wikipedia page, the value of the Borough and the Neighborhood columns will be Queen's Park."
   ]
  },
  {
   "cell_type": "code",
   "execution_count": 64,
   "metadata": {},
   "outputs": [
    {
     "name": "stdout",
     "output_type": "stream",
     "text": [
      "   Postcode           Borough      Neighborhood\n",
      "2       M3A        North York         Parkwoods\n",
      "3       M4A        North York  Victoria Village\n",
      "4       M5A  Downtown Toronto      Harbourfront\n",
      "5       M6A        North York  Lawrence Heights\n",
      "6       M6A        North York    Lawrence Manor\n",
      "7       M7A  Downtown Toronto      Queen's Park\n",
      "9       M9A      Queen's Park      Queen's Park\n",
      "10      M1B       Scarborough             Rouge\n",
      "11      M1B       Scarborough           Malvern\n",
      "13      M3B        North York   Don Mills North\n",
      "14      M4B         East York  Woodbine Gardens\n",
      "15      M4B         East York     Parkview Hill\n",
      "16      M5B  Downtown Toronto           Ryerson\n",
      "17      M5B  Downtown Toronto   Garden District\n",
      "18      M6B        North York         Glencairn\n"
     ]
    }
   ],
   "source": [
    "df.loc[df.Neighborhood == 'Not assigned', \"Neighborhood\"] = df.Borough\n",
    "\n",
    "# Display the first 15 rows\n",
    "print(df.head(15))"
   ]
  },
  {
   "cell_type": "markdown",
   "metadata": {},
   "source": [
    "More than one neighborhood can exist in one postal code area. For example, in the table on the Wikipedia page, you will notice that M5A is listed twice and has two neighborhoods: Harbourfront and Regent Park. These two rows will be combined into one row with the neighborhoods separated with a comma as shown in row 11 in the above table."
   ]
  },
  {
   "cell_type": "code",
   "execution_count": 65,
   "metadata": {},
   "outputs": [
    {
     "name": "stdout",
     "output_type": "stream",
     "text": [
      "   Postcode      Borough                                       Neighborhood\n",
      "0       M1B  Scarborough                                     Rouge, Malvern\n",
      "1       M1C  Scarborough             Highland Creek, Rouge Hill, Port Union\n",
      "2       M1E  Scarborough                  Guildwood, Morningside, West Hill\n",
      "3       M1G  Scarborough                                             Woburn\n",
      "4       M1H  Scarborough                                          Cedarbrae\n",
      "5       M1J  Scarborough                                Scarborough Village\n",
      "6       M1K  Scarborough        East Birchmount Park, Ionview, Kennedy Park\n",
      "7       M1L  Scarborough                    Clairlea, Golden Mile, Oakridge\n",
      "8       M1M  Scarborough    Cliffcrest, Cliffside, Scarborough Village West\n",
      "9       M1N  Scarborough                        Birch Cliff, Cliffside West\n",
      "10      M1P  Scarborough  Dorset Park, Scarborough Town Centre, Wexford ...\n",
      "11      M1R  Scarborough                                  Maryvale, Wexford\n",
      "12      M1S  Scarborough                                          Agincourt\n",
      "13      M1T  Scarborough            Clarks Corners, Sullivan, Tam O'Shanter\n",
      "14      M1V  Scarborough  Agincourt North, L'Amoreaux East, Milliken, St...\n"
     ]
    }
   ],
   "source": [
    "df = df.groupby(['Postcode', 'Borough'])['Neighborhood'].apply(', '.join).reset_index()\n",
    "\n",
    "# Display the first 15 rows\n",
    "print(df.head(15))"
   ]
  },
  {
   "cell_type": "code",
   "execution_count": 66,
   "metadata": {},
   "outputs": [
    {
     "data": {
      "text/plain": [
       "(103, 3)"
      ]
     },
     "execution_count": 66,
     "metadata": {},
     "output_type": "execute_result"
    }
   ],
   "source": [
    "# In the last cell of your notebook, use the .shape method to print the number of rows of your dataframe.\n",
    "df.shape"
   ]
  }
 ],
 "metadata": {
  "kernelspec": {
   "display_name": "Python 3.6",
   "language": "python",
   "name": "python3"
  },
  "language_info": {
   "codemirror_mode": {
    "name": "ipython",
    "version": 3
   },
   "file_extension": ".py",
   "mimetype": "text/x-python",
   "name": "python",
   "nbconvert_exporter": "python",
   "pygments_lexer": "ipython3",
   "version": "3.6.9"
  }
 },
 "nbformat": 4,
 "nbformat_minor": 1
}
