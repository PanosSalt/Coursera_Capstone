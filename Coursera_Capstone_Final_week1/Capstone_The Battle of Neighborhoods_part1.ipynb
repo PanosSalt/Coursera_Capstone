{
 "cells": [
  {
   "cell_type": "markdown",
   "metadata": {},
   "source": [
    "# Coursera Capstone Athens Project"
   ]
  },
  {
   "cell_type": "markdown",
   "metadata": {},
   "source": [
    "## The Battle of Neighborhoods - Final Report (Week 1)"
   ]
  },
  {
   "cell_type": "markdown",
   "metadata": {},
   "source": [
    "### Upload Libraries Required"
   ]
  },
  {
   "cell_type": "code",
   "execution_count": 12,
   "metadata": {},
   "outputs": [],
   "source": [
    "import requests\n",
    "from bs4 import BeautifulSoup\n",
    "import pandas as pd\n",
    "import time\n",
    "\n",
    "from geopy.geocoders import Nominatim"
   ]
  },
  {
   "cell_type": "markdown",
   "metadata": {
    "collapsed": true
   },
   "source": [
    "# 1. Introduction Section :"
   ]
  },
  {
   "cell_type": "markdown",
   "metadata": {},
   "source": [
    "## Discussion of the business problem"
   ]
  },
  {
   "cell_type": "markdown",
   "metadata": {},
   "source": [
    "### 1.1 Scenario and Background\n",
    "\n",
    "I just started working as an Application Support Engineer although my real passion is to find a job and work as a data scientist. I currently live within walking distance from \"Megaro Mousikis metro station\" near the center of Athens therefore I have access to good public transportation to work. Likewise, I enjoy many amenities in the neighborhood , such as international cousine restaurants, cafes, food shops and entertainment. Although you don' t really care about my personal life I have just recently started looking for a bigger house in order to live with my girlfriend and start a family. Although, I am very excited about it, I am a bit stressed towards the process to secure a comparable place to live in Athens, since there is a significant raise in rental prices within the last few years. Therefore, I decided to apply the skills I have learned during studying for the Coursera courses to explore ways to make sure my decision is factual and rewarding. Of course, there are alternatives to achieve the answer using available Google and Social media tools, but it will be rather rewarding doing it myself with the tools used so far."
   ]
  },
  {
   "cell_type": "markdown",
   "metadata": {},
   "source": [
    "### 1.2 Problem to be resolved:\n",
    "\n",
    "The challenge to resolve is being able to find a rental apartment unit in Attica GR that offers similar characteristics and benefits to my current situation. Therefore, in order to set a basis for comparison, I want to find a rental unit subject to the following conditions:\n",
    "\n",
    "- Apartment with min 2 bedrooms with monthly rent not to exceed 700 euro/month\n",
    "- Unit located within walking distance (<= 1.5 km) from a subway metro station in Attica\n",
    "- Area with amenities and venues similar to the ones described for current location ( See item 2.1)"
   ]
  },
  {
   "cell_type": "markdown",
   "metadata": {},
   "source": [
    "### 1.3 Interested Audience:\n",
    "\n",
    "I believe this is a relevant project for everyone considering moving to a major city in Europe, US or Asia, since the approach and methodologies used here are applicable in all cases. The use of FourSquare data and mapping techniques combined with data analysis will help resolve the key questions arisen. Lastly, this project is a good practical case towards the development of Data Science skills."
   ]
  },
  {
   "cell_type": "markdown",
   "metadata": {},
   "source": [
    "# 2. Data Section:"
   ]
  },
  {
   "cell_type": "markdown",
   "metadata": {},
   "source": [
    "## Description of the data and its sources that will be used to solve the problem"
   ]
  },
  {
   "cell_type": "markdown",
   "metadata": {},
   "source": [
    "### 2.1 Data of Current Situation\n",
    "\n",
    "I Currently reside in the neighborhood of 'Kolonaki' near Athens city center. Foursquare will be used to identify the venues around the area of residence which will be shown in Athens map displayed in methodology and execution in section 3.0 . It serves as a reference for comparison with the desired future location."
   ]
  },
  {
   "cell_type": "markdown",
   "metadata": {},
   "source": [
    "### 2.2 Data Required to resolve the problem\n",
    "\n",
    "In order to make a good choice of a similar apartment, the following data is required: List/Information of Attica neighborhoods with their geodata (latitude and longitude). List/Information of the subway metro stations with Geodata. Listed apartments for rent in Athens area with descriptions (number of bedrooms, apartment size, price, location). Venues and amenities in Athens neighborhoods (e.g. top 10)."
   ]
  },
  {
   "cell_type": "markdown",
   "metadata": {},
   "source": [
    "### 2.3 Sources and manipulation\n",
    "\n",
    "The list of Athens neighborhoods is scraped from Wikipedia link https://en.wikipedia.org/wiki/Category:Neighbourhoods_in_Athens and is passed to a list and then to the pandas DataFrame \"df_neighborhoods\" along with latitude and longitude retrieved from Nominatim. The sript used along with the dataframe are shown below."
   ]
  },
  {
   "cell_type": "code",
   "execution_count": 13,
   "metadata": {
    "scrolled": false
   },
   "outputs": [
    {
     "name": "stderr",
     "output_type": "stream",
     "text": [
      "/opt/conda/envs/Python36/lib/python3.6/site-packages/ipykernel/__main__.py:17: DeprecationWarning: Using Nominatim with the default \"geopy/1.18.1\" `user_agent` is strongly discouraged, as it violates Nominatim's ToS https://operations.osmfoundation.org/policies/nominatim/ and may possibly cause 403 and 429 HTTP errors. Please specify a custom `user_agent` with `Nominatim(user_agent=\"my-application\")` or by overriding the default `user_agent`: `geopy.geocoders.options.default_user_agent = \"my-application\"`. In geopy 2.0 this will become an exception.\n"
     ]
    },
    {
     "name": "stdout",
     "output_type": "stream",
     "text": [
      "(47, 3)\n",
      "                          Neighborhood   Latitude  Longitude\n",
      "0    Agios Eleftherios, Athens, Greece  38.020044  23.731724\n",
      "1  Agios Panteleimonas, Athens, Greece  37.996564  23.726957\n",
      "2            Akadimia Platonos, Greece  37.989357  23.711217\n",
      "3             Akadimia, Athens, Greece  37.980285  23.734528\n",
      "4                   Anafiotika, Greece  37.972351  23.728043\n"
     ]
    }
   ],
   "source": [
    "res = requests.get(\"https://en.wikipedia.org/wiki/Category:Neighbourhoods_in_Athens\")\n",
    "soup = BeautifulSoup(res.content,'lxml')\n",
    "\n",
    "Class = soup.find_all('li')\n",
    "\n",
    "neighborhoods = []\n",
    "\n",
    "for h in Class:\n",
    "    a = h.find('a')\n",
    "    if a is not None and 'title' in a.attrs:\n",
    "        l = a.get('title')\n",
    "    neighborhoods.append(l)\n",
    "\n",
    "k = []\n",
    "for address1 in neighborhoods[2:64]:\n",
    "    address = address1 + ', Greece'\n",
    "    geolocator = Nominatim()\n",
    "    location = geolocator.geocode(address)\n",
    "    if location is not None:\n",
    "        t = address, location.latitude, location.longitude\n",
    "        time.sleep(2)\n",
    "        k.append(t)\n",
    "\n",
    "df_neighborhoods = pd.DataFrame(k , columns = ['Neighborhood', 'Latitude', 'Longitude'])\n",
    "\n",
    "print(df_neighborhoods.shape)\n",
    "print(df_neighborhoods.head())"
   ]
  },
  {
   "cell_type": "markdown",
   "metadata": {},
   "source": [
    "A list of Athens subway metro stations was scraped once again from Wikipedia (https://en.wikipedia.org/wiki/List_of_Athens_Metro_stations). The geolocation was obtained again using Nominatim and passed to the pandas DataFrame \"df_stations\"."
   ]
  },
  {
   "cell_type": "code",
   "execution_count": 14,
   "metadata": {},
   "outputs": [
    {
     "name": "stderr",
     "output_type": "stream",
     "text": [
      "/opt/conda/envs/Python36/lib/python3.6/site-packages/ipykernel/__main__.py:17: DeprecationWarning: Using Nominatim with the default \"geopy/1.18.1\" `user_agent` is strongly discouraged, as it violates Nominatim's ToS https://operations.osmfoundation.org/policies/nominatim/ and may possibly cause 403 and 429 HTTP errors. Please specify a custom `user_agent` with `Nominatim(user_agent=\"my-application\")` or by overriding the default `user_agent`: `geopy.geocoders.options.default_user_agent = \"my-application\"`. In geopy 2.0 this will become an exception.\n"
     ]
    },
    {
     "name": "stdout",
     "output_type": "stream",
     "text": [
      "(49, 3)\n",
      "                         Station   Latitude  Longitude\n",
      "0         Nerantziotissa station  38.045158  23.792984\n",
      "1                Piraeus station  37.943159  23.647059\n",
      "2         Elliniko metro station  37.907554  23.737044\n",
      "3   Agia Paraskevi metro station  38.020815  23.816783\n",
      "4  Agios Dimitrios metro station  37.946833  23.737825\n"
     ]
    }
   ],
   "source": [
    "res = requests.get(\"https://en.wikipedia.org/wiki/List_of_Athens_Metro_stations\")\n",
    "soup = BeautifulSoup(res.content,'lxml')\n",
    "\n",
    "table = soup.find_all('td')\n",
    "#print(table)\n",
    "stations = []\n",
    "for h in table:\n",
    "    a = h.find('a')\n",
    "    if a is not None and 'title' in a.attrs:\n",
    "        l = a.get('title')\n",
    "        if 'station' in l:\n",
    "            l = l[:l.find(\"station\")] + 'station'\n",
    "            stations.append(l)\n",
    "\n",
    "k = []\n",
    "for address in stations:\n",
    "    geolocator = Nominatim()\n",
    "    location = geolocator.geocode(address)\n",
    "    if location is not None:\n",
    "        t = address, location.latitude, location.longitude\n",
    "        time.sleep(2)\n",
    "        k.append(t)\n",
    "\n",
    "df_stations = pd.DataFrame(k , columns = ['Station', 'Latitude', 'Longitude'])\n",
    "print(df_stations.shape)\n",
    "print(df_stations.head())"
   ]
  },
  {
   "cell_type": "markdown",
   "metadata": {},
   "source": [
    "A list of places for rent was collected by web-browsing nepstick site: https://www.nestpick.com/athens/ working as search engine for rental apartments, retrieving data from different real etate sites. Afterwards data are passed to a DataFrame with the following columns ['name', 'category', 'normalized_price', 'number_of_bedrooms', 'apartment_size', 'latitude', 'longitude']. The loop algorithms used are shown in the execution of data in section 3.0. \"Great_circle\" function from geolocator was used to calculate distances between two points, as in this case to calculate average rent price for units around each subway station and at 1.5 km radius. Foursquare is used to find the avenues at Athens neighborhoods in general and a cluster is created to later be able to search for the venues depending on the location shown."
   ]
  },
  {
   "cell_type": "markdown",
   "metadata": {},
   "source": [
    "### 2.4 How the data will be used to solve the problem\n",
    "\n",
    "The data will be used as follows: Use Foursquare and geopy data to map top 10 venues for all Athens neighborhoods and clustered in groups. Use foursquare and geopy data to map the location of subway metro stations, separately and on top of the above clustered map in order to be able to identify the venues and amenities near each metro station, or explore each subway location separately. Use Foursquare and geopy data to map the location of rental places, in some form, linked to the subway locations. Create a map that depicts, for instance, the average rental price per square ft, around a radius of 1.5 km around each subway station. I will be able to quickly point to the popups to know the relative price per subway area."
   ]
  },
  {
   "cell_type": "code",
   "execution_count": null,
   "metadata": {},
   "outputs": [],
   "source": []
  }
 ],
 "metadata": {
  "kernelspec": {
   "display_name": "Python 3.6",
   "language": "python",
   "name": "python3"
  },
  "language_info": {
   "codemirror_mode": {
    "name": "ipython",
    "version": 3
   },
   "file_extension": ".py",
   "mimetype": "text/x-python",
   "name": "python",
   "nbconvert_exporter": "python",
   "pygments_lexer": "ipython3",
   "version": "3.6.9"
  }
 },
 "nbformat": 4,
 "nbformat_minor": 1
}
